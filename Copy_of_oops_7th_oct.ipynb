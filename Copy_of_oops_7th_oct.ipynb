{
  "cells": [
    {
      "cell_type": "code",
      "execution_count": null,
      "id": "8b6a7b1a-3ff5-4b22-be3e-d3b2d7aa7e3a",
      "metadata": {
        "id": "8b6a7b1a-3ff5-4b22-be3e-d3b2d7aa7e3a"
      },
      "outputs": [],
      "source": [
        "class a :\n",
        "\n",
        "    def test(self):\n",
        "        print(\"this test method is a part of class a\")\n",
        "\n",
        "    def test1(self):\n",
        "        print(\"this is test1 from class a \")"
      ]
    },
    {
      "cell_type": "code",
      "execution_count": null,
      "id": "8e4d306f-fdb4-47a0-a93d-597f5b21d30b",
      "metadata": {
        "id": "8e4d306f-fdb4-47a0-a93d-597f5b21d30b"
      },
      "outputs": [],
      "source": [
        "obj_a = a()"
      ]
    },
    {
      "cell_type": "code",
      "execution_count": null,
      "id": "81ef5597-cf96-4ed9-a4f6-21e2e93aca70",
      "metadata": {
        "id": "81ef5597-cf96-4ed9-a4f6-21e2e93aca70",
        "outputId": "9149423c-f45f-42c6-cf9c-acf27f8b14c1"
      },
      "outputs": [
        {
          "name": "stdout",
          "output_type": "stream",
          "text": [
            "this test method is a part of class a\n"
          ]
        }
      ],
      "source": [
        "obj_a.test()"
      ]
    },
    {
      "cell_type": "code",
      "execution_count": null,
      "id": "11ee63d6-433d-48dc-ada0-5dd6771310ba",
      "metadata": {
        "id": "11ee63d6-433d-48dc-ada0-5dd6771310ba"
      },
      "outputs": [],
      "source": [
        "class b(a) :\n",
        "    def test1b(self):\n",
        "        print(\"this is a part of class b \")"
      ]
    },
    {
      "cell_type": "code",
      "execution_count": null,
      "id": "badaedfe-57d1-43c6-9193-e5afb0f31dbc",
      "metadata": {
        "id": "badaedfe-57d1-43c6-9193-e5afb0f31dbc"
      },
      "outputs": [],
      "source": [
        "obj_b = b()"
      ]
    },
    {
      "cell_type": "code",
      "execution_count": null,
      "id": "3ce19f61-ba8e-4050-9d4d-614adfd964c5",
      "metadata": {
        "id": "3ce19f61-ba8e-4050-9d4d-614adfd964c5",
        "outputId": "551e6e15-d3fa-4fc9-d436-1e75c3763dfd"
      },
      "outputs": [
        {
          "name": "stdout",
          "output_type": "stream",
          "text": [
            "this test method is a part of class a\n"
          ]
        }
      ],
      "source": [
        "obj_b.test()"
      ]
    },
    {
      "cell_type": "code",
      "execution_count": null,
      "id": "5e473fae-e094-4407-99df-16a04ab4c80a",
      "metadata": {
        "id": "5e473fae-e094-4407-99df-16a04ab4c80a",
        "outputId": "5b432ffe-2ed2-4249-ac5e-c00dff34e1c0"
      },
      "outputs": [
        {
          "name": "stdout",
          "output_type": "stream",
          "text": [
            "this is test1 from class a \n"
          ]
        }
      ],
      "source": [
        "obj_b.test1()"
      ]
    },
    {
      "cell_type": "code",
      "execution_count": null,
      "id": "02a8f055-535f-4bc2-adc1-575445f82570",
      "metadata": {
        "id": "02a8f055-535f-4bc2-adc1-575445f82570"
      },
      "outputs": [],
      "source": [
        "obj_b."
      ]
    },
    {
      "cell_type": "code",
      "execution_count": null,
      "id": "59361cd3-c0c4-4ddd-abac-cbe3275ade5f",
      "metadata": {
        "id": "59361cd3-c0c4-4ddd-abac-cbe3275ade5f"
      },
      "outputs": [],
      "source": [
        "class lecture:\n",
        "\n",
        "    def topic(self):\n",
        "        print(\"todays class we are discussing about inheritance condept in oops\")\n",
        "\n",
        "    def timing(self):\n",
        "        print(\"timing for todays class is 9 AM IST\")\n",
        "\n",
        "    def end_time(self):\n",
        "        print(\"today i will try to end class bit early\")"
      ]
    },
    {
      "cell_type": "code",
      "execution_count": null,
      "id": "6e3dd2de-883e-4e9e-98a0-4a7089af1627",
      "metadata": {
        "id": "6e3dd2de-883e-4e9e-98a0-4a7089af1627"
      },
      "outputs": [],
      "source": [
        "class student(lecture):\n",
        "\n",
        "    def student_details(self):\n",
        "        print(\"this class will give you a student details\")"
      ]
    },
    {
      "cell_type": "code",
      "execution_count": null,
      "id": "c2ad2a89-0f29-4410-86c4-e33f47b4186d",
      "metadata": {
        "id": "c2ad2a89-0f29-4410-86c4-e33f47b4186d"
      },
      "outputs": [],
      "source": [
        "naval = student()"
      ]
    },
    {
      "cell_type": "code",
      "execution_count": null,
      "id": "38c86e7f-5560-464a-b597-c88a74819f1a",
      "metadata": {
        "id": "38c86e7f-5560-464a-b597-c88a74819f1a",
        "outputId": "e9701ea1-0c4b-4d92-e3fd-5d0b5be74ff4"
      },
      "outputs": [
        {
          "name": "stdout",
          "output_type": "stream",
          "text": [
            "todays class we are discussing about inheritance condept in oops\n"
          ]
        }
      ],
      "source": [
        "naval.topic()"
      ]
    },
    {
      "cell_type": "code",
      "execution_count": null,
      "id": "02efc8a4-f995-4f85-87d2-620ccc0f61fa",
      "metadata": {
        "id": "02efc8a4-f995-4f85-87d2-620ccc0f61fa",
        "outputId": "23f712e9-93e5-45e1-d5a9-76a134e7aef6"
      },
      "outputs": [
        {
          "name": "stdout",
          "output_type": "stream",
          "text": [
            "timing for todays class is 9 AM IST\n"
          ]
        }
      ],
      "source": [
        "satish = student()\n",
        "satish.timing()"
      ]
    },
    {
      "cell_type": "code",
      "execution_count": null,
      "id": "03932972-a58b-46e5-a3f8-ffc43c84ce53",
      "metadata": {
        "id": "03932972-a58b-46e5-a3f8-ffc43c84ce53"
      },
      "outputs": [],
      "source": [
        "class teacher(student):\n",
        "    def details(self):\n",
        "        print(\"this will give you a details about teacher\")"
      ]
    },
    {
      "cell_type": "code",
      "execution_count": null,
      "id": "fff36c1b-f1e9-467e-b29f-c304aa9feec9",
      "metadata": {
        "id": "fff36c1b-f1e9-467e-b29f-c304aa9feec9",
        "outputId": "271a7ba0-6f90-43f1-f30d-a8ac6481ad8c"
      },
      "outputs": [
        {
          "name": "stdout",
          "output_type": "stream",
          "text": [
            "timing for todays class is 9 AM IST\n"
          ]
        }
      ],
      "source": [
        "sudh = teacher()\n",
        "sudh.timing()"
      ]
    },
    {
      "cell_type": "code",
      "execution_count": null,
      "id": "a5e8c94b-de62-4ef5-8eba-81259d83dd3d",
      "metadata": {
        "id": "a5e8c94b-de62-4ef5-8eba-81259d83dd3d"
      },
      "outputs": [],
      "source": [
        "class lecture:\n",
        "    def topic(self):\n",
        "        print(\"todays class we are discussing about inheritance condept in oops\")\n",
        "\n",
        "    def timing(self):\n",
        "        print(\"timing for todays class is 9 AM IST\")\n",
        "\n",
        "    def end_time(self):\n",
        "        print(\"today i will try to end class bit early\")"
      ]
    },
    {
      "cell_type": "code",
      "execution_count": null,
      "id": "2007141c-1b71-4cd4-9bed-a3cd8d851baa",
      "metadata": {
        "id": "2007141c-1b71-4cd4-9bed-a3cd8d851baa"
      },
      "outputs": [],
      "source": [
        "class student:\n",
        "\n",
        "    def student_details(self):\n",
        "        print(\"this class will give you a student details\")\n",
        "\n",
        "    def timing(self):\n",
        "        print(\"this is a timing fun from student class\")\n"
      ]
    },
    {
      "cell_type": "code",
      "execution_count": null,
      "id": "272860d3-1fac-475b-8c09-0490069224bc",
      "metadata": {
        "id": "272860d3-1fac-475b-8c09-0490069224bc"
      },
      "outputs": [],
      "source": [
        "class teacher(lecture,student):\n",
        "    def details(self):\n",
        "        print(\"this will give you a details about teacher\")"
      ]
    },
    {
      "cell_type": "code",
      "execution_count": null,
      "id": "f4a9ae16-f0e3-4a4a-a003-38773611cd2a",
      "metadata": {
        "id": "f4a9ae16-f0e3-4a4a-a003-38773611cd2a"
      },
      "outputs": [],
      "source": [
        "krish = teacher()"
      ]
    },
    {
      "cell_type": "code",
      "execution_count": null,
      "id": "6dc85f37-219e-4c72-927c-9aebb550fea9",
      "metadata": {
        "id": "6dc85f37-219e-4c72-927c-9aebb550fea9",
        "outputId": "2ed20b97-ae7a-4aa1-e486-e1d135847479"
      },
      "outputs": [
        {
          "name": "stdout",
          "output_type": "stream",
          "text": [
            "timing for todays class is 9 AM IST\n"
          ]
        }
      ],
      "source": [
        "krish.timing()"
      ]
    },
    {
      "cell_type": "code",
      "execution_count": null,
      "id": "8bcbac88-9172-4a31-a191-9c4b9a1c6eac",
      "metadata": {
        "id": "8bcbac88-9172-4a31-a191-9c4b9a1c6eac",
        "outputId": "31cd18b7-6a49-4e82-a6a2-754d1b573468"
      },
      "outputs": [
        {
          "name": "stdout",
          "output_type": "stream",
          "text": [
            "this class will give you a student details\n"
          ]
        }
      ],
      "source": [
        "krish.student_details()"
      ]
    },
    {
      "cell_type": "code",
      "source": [
        "#Problem number 1 #Bank Account Create a class representing a bank account with attributes like account number, account holder name, and balance. Implement methods to deposit and withdraw money from the account."
      ],
      "metadata": {
        "id": "JEUg2zMynNYa"
      },
      "id": "JEUg2zMynNYa",
      "execution_count": 1,
      "outputs": []
    },
    {
      "cell_type": "code",
      "execution_count": 5,
      "id": "fef1683a-faa4-4d27-a0a6-7a742e512e9b",
      "metadata": {
        "id": "fef1683a-faa4-4d27-a0a6-7a742e512e9b",
        "colab": {
          "base_uri": "https://localhost:8080/"
        },
        "outputId": "684b2648-a6c6-4432-eb9c-8388f15d255e"
      },
      "outputs": [
        {
          "output_type": "stream",
          "name": "stdout",
          "text": [
            "Account Number: 123456789\n",
            "Account Holder: Vishal Maurya\n",
            "Balance: $2000.00\n",
            "Deposited $500.00 into the account. New balance: $2500.00\n",
            "Withdrew $200.00 from the account. New balance: $2300.00\n",
            "Withdrew $1500.00 from the account. New balance: $800.00\n"
          ]
        }
      ],
      "source": [
        "class BankAccount:\n",
        "    def __init__(self, account_number, account_holder_name, balance=0.0):\n",
        "        self.account_number = account_number\n",
        "        self.account_holder_name = account_holder_name\n",
        "        self.balance = balance\n",
        "\n",
        "    def deposit(self, amount):\n",
        "        if amount > 0:\n",
        "            self.balance += amount\n",
        "            print(f\"Deposited ${amount:.2f} into the account. New balance: ${self.balance:.2f}\")\n",
        "        else:\n",
        "            print(\"Invalid deposit amount. Please deposit a positive amount.\")\n",
        "\n",
        "    def withdraw(self, amount):\n",
        "        if amount > 0:\n",
        "            if amount <= self.balance:\n",
        "                self.balance -= amount\n",
        "                print(f\"Withdrew ${amount:.2f} from the account. New balance: ${self.balance:.2f}\")\n",
        "            else:\n",
        "                print(\"Insufficient funds. Withdrawal cannot be processed.\")\n",
        "        else:\n",
        "            print(\"Invalid withdrawal amount. Please withdraw a positive amount.\")\n",
        "\n",
        "    def get_balance(self):\n",
        "        return self.balance\n",
        "\n",
        "    def __str__(self):\n",
        "        return f\"Account Number: {self.account_number}\\nAccount Holder: {self.account_holder_name}\\nBalance: ${self.balance:.2f}\"\n",
        "\n",
        "\n",
        "if __name__ == \"__main__\":\n",
        "    account = BankAccount(\"123456789\", \"Vishal Maurya\", 2000.0)\n",
        "\n",
        "    print(account)  # Display account information\n",
        "    account.deposit(500.0)  # Deposit $500\n",
        "    account.withdraw(200.0)  # Withdraw $200\n",
        "    account.withdraw(1500.0)  # Attempt to withdraw $1500 (insufficient balance)\n"
      ]
    },
    {
      "cell_type": "code",
      "source": [
        "#Problem 2: Employee Management Create a class representing an employee with attributes like employee ID, name, and salary. Implement methods to calculate the yearly bonus and display employee details."
      ],
      "metadata": {
        "id": "rXLCQ52opWqo"
      },
      "id": "rXLCQ52opWqo",
      "execution_count": 6,
      "outputs": []
    },
    {
      "cell_type": "code",
      "source": [
        "class Employee:\n",
        "    def __init__(self, employee_id, name, salary):\n",
        "        self.employee_id = employee_id\n",
        "        self.name = name\n",
        "        self.salary = salary\n",
        "\n",
        "    def calculate_yearly_bonus(self, bonus_percentage):\n",
        "        if bonus_percentage >= 0:\n",
        "            yearly_bonus = (bonus_percentage / 100) * self.salary\n",
        "            return yearly_bonus\n",
        "        else:\n",
        "            print(\"Invalid bonus percentage. Please provide a non-negative value.\")\n",
        "            return 0\n",
        "\n",
        "    def display_employee_details(self):\n",
        "        print(f\"Employee ID: {self.employee_id}\")\n",
        "        print(f\"Employee Name: {self.name}\")\n",
        "        print(f\"Salary: ${self.salary:.2f}\")\n",
        "\n",
        "\n",
        "if __name__ == \"__main__\":\n",
        "    employee1 = Employee(\"T12345\", \"Vishal Maurya\", 50000.0)\n",
        "\n",
        "    # Display employee details\n",
        "    employee1.display_employee_details()\n",
        "\n",
        "\n",
        "    bonus_percentage = 10  # 10% bonus\n",
        "    yearly_bonus = employee1.calculate_yearly_bonus(bonus_percentage)\n",
        "    print(f\"Yearly Bonus: ${yearly_bonus:.2f}\")\n"
      ],
      "metadata": {
        "colab": {
          "base_uri": "https://localhost:8080/"
        },
        "id": "UmVizWZCq5lw",
        "outputId": "e4c40b32-664f-4212-f9f4-a138ad35d5c2"
      },
      "id": "UmVizWZCq5lw",
      "execution_count": 8,
      "outputs": [
        {
          "output_type": "stream",
          "name": "stdout",
          "text": [
            "Employee ID: T12345\n",
            "Employee Name: Vishal Maurya\n",
            "Salary: $50000.00\n",
            "Yearly Bonus: $5000.00\n"
          ]
        }
      ]
    },
    {
      "cell_type": "code",
      "source": [
        "#Problem 3: Vehicle Rental Create a class representing a vehicle rental system. Implement methods to rent a vehicle, return a vehicle, and display available vehicles."
      ],
      "metadata": {
        "id": "d20Ev0M5reNX"
      },
      "id": "d20Ev0M5reNX",
      "execution_count": 9,
      "outputs": []
    },
    {
      "cell_type": "code",
      "source": [
        "class VehicleRentalSystem:\n",
        "    def __init__(self):\n",
        "        self.available_vehicles = {}\n",
        "        self.rented_vehicles = {}\n",
        "\n",
        "    def add_vehicle(self, vehicle_id, vehicle_type):\n",
        "        if vehicle_id not in self.available_vehicles:\n",
        "            self.available_vehicles[vehicle_id] = vehicle_type\n",
        "            print(f\"Added {vehicle_type} with ID {vehicle_id} to available vehicles.\")\n",
        "        else:\n",
        "            print(f\"Vehicle with ID {vehicle_id} already exists in the system.\")\n",
        "\n",
        "    def rent_vehicle(self, vehicle_id, customer_name):\n",
        "        if vehicle_id in self.available_vehicles:\n",
        "            vehicle_type = self.available_vehicles.pop(vehicle_id)\n",
        "            self.rented_vehicles[vehicle_id] = (customer_name, vehicle_type)\n",
        "            print(f\"Rented {vehicle_type} with ID {vehicle_id} to {customer_name}.\")\n",
        "        else:\n",
        "            print(f\"Vehicle with ID {vehicle_id} is not available for rent.\")\n",
        "\n",
        "    def return_vehicle(self, vehicle_id):\n",
        "        if vehicle_id in self.rented_vehicles:\n",
        "            customer_name, vehicle_type = self.rented_vehicles.pop(vehicle_id)\n",
        "            self.available_vehicles[vehicle_id] = vehicle_type\n",
        "            print(f\"{customer_name} returned {vehicle_type} with ID {vehicle_id}.\")\n",
        "        else:\n",
        "            print(f\"Vehicle with ID {vehicle_id} was not rented from this system.\")\n",
        "\n",
        "    def display_available_vehicles(self):\n",
        "        if self.available_vehicles:\n",
        "            print(\"Available Vehicles:\")\n",
        "            for vehicle_id, vehicle_type in self.available_vehicles.items():\n",
        "                print(f\"ID: {vehicle_id}, Type: {vehicle_type}\")\n",
        "        else:\n",
        "            print(\"No vehicles are currently available.\")\n",
        "\n",
        "if __name__ == \"__main__\":\n",
        "    rental_system = VehicleRentalSystem()\n",
        "\n",
        "    rental_system.add_vehicle(\"V001\", \"Sedan\")\n",
        "    rental_system.add_vehicle(\"V002\", \"SUV\")\n",
        "    rental_system.add_vehicle(\"V003\", \"Compact\")\n",
        "\n",
        "    rental_system.display_available_vehicles()\n",
        "\n",
        "    rental_system.rent_vehicle(\"V001\", \"John Doe\")\n",
        "\n",
        "    rental_system.display_available_vehicles()\n",
        "\n",
        "    rental_system.return_vehicle(\"V001\")\n",
        "\n",
        "    rental_system.display_available_vehicles()\n"
      ],
      "metadata": {
        "colab": {
          "base_uri": "https://localhost:8080/"
        },
        "id": "PDMTQ1ZXsYEk",
        "outputId": "0d482dba-7413-4c95-8a4c-02cc2b7052a1"
      },
      "id": "PDMTQ1ZXsYEk",
      "execution_count": 10,
      "outputs": [
        {
          "output_type": "stream",
          "name": "stdout",
          "text": [
            "Added Sedan with ID V001 to available vehicles.\n",
            "Added SUV with ID V002 to available vehicles.\n",
            "Added Compact with ID V003 to available vehicles.\n",
            "Available Vehicles:\n",
            "ID: V001, Type: Sedan\n",
            "ID: V002, Type: SUV\n",
            "ID: V003, Type: Compact\n",
            "Rented Sedan with ID V001 to John Doe.\n",
            "Available Vehicles:\n",
            "ID: V002, Type: SUV\n",
            "ID: V003, Type: Compact\n",
            "John Doe returned Sedan with ID V001.\n",
            "Available Vehicles:\n",
            "ID: V002, Type: SUV\n",
            "ID: V003, Type: Compact\n",
            "ID: V001, Type: Sedan\n"
          ]
        }
      ]
    },
    {
      "cell_type": "code",
      "source": [
        "#Problem 4: Library Catalog Create classes representing a library and a book. Implement methods to add books to the library, borrow books, and display available books."
      ],
      "metadata": {
        "id": "3XopEoFMsra8"
      },
      "id": "3XopEoFMsra8",
      "execution_count": 11,
      "outputs": []
    },
    {
      "cell_type": "code",
      "source": [
        "class Book:\n",
        "    def __init__(self, book_id, title, author):\n",
        "        self.book_id = book_id\n",
        "        self.title = title\n",
        "        self.author = author\n",
        "        self.is_available = True\n",
        "\n",
        "    def __str__(self):\n",
        "        return f\"Book ID: {self.book_id}, Title: {self.title}, Author: {self.author}, Available: {self.is_available}\"\n",
        "\n",
        "\n",
        "class Library:\n",
        "    def __init__(self):\n",
        "        self.books = {}\n",
        "\n",
        "    def add_book(self, book_id, title, author):\n",
        "        if book_id not in self.books:\n",
        "            book = Book(book_id, title, author)\n",
        "            self.books[book_id] = book\n",
        "            print(f\"Added book: {book.title} by {book.author}\")\n",
        "        else:\n",
        "            print(f\"Book with ID {book_id} already exists in the library.\")\n",
        "\n",
        "    def borrow_book(self, book_id):\n",
        "        if book_id in self.books:\n",
        "            book = self.books[book_id]\n",
        "            if book.is_available:\n",
        "                book.is_available = False\n",
        "                print(f\"Borrowed book: {book.title} by {book.author}\")\n",
        "            else:\n",
        "                print(f\"Book with ID {book_id} is already checked out.\")\n",
        "        else:\n",
        "            print(f\"Book with ID {book_id} does not exist in the library.\")\n",
        "\n",
        "    def display_available_books(self):\n",
        "        available_books = [book for book in self.books.values() if book.is_available]\n",
        "        if available_books:\n",
        "            print(\"Available Books:\")\n",
        "            for book in available_books:\n",
        "                print(book)\n",
        "        else:\n",
        "            print(\"No books are currently available in the library.\")\n",
        "\n",
        "if __name__ == \"__main__\":\n",
        "    library = Library()\n",
        "\n",
        "    library.add_book(\"B001\", \"Harry Potter and the Sorcerer's Stone\", \"J.K. Rowling\")\n",
        "    library.add_book(\"B002\", \"To Kill a Mockingbird\", \"Harper Lee\")\n",
        "    library.add_book(\"B003\", \"The Great Gatsby\", \"F. Scott Fitzgerald\")\n",
        "\n",
        "    library.display_available_books()\n",
        "\n",
        "    library.borrow_book(\"B001\")\n",
        "    library.borrow_book(\"B002\")\n",
        "\n",
        "    library.display_available_books()\n"
      ],
      "metadata": {
        "colab": {
          "base_uri": "https://localhost:8080/"
        },
        "id": "pYs3b3Nps7Qp",
        "outputId": "3c403161-a561-4edb-e537-0ce758c8415b"
      },
      "id": "pYs3b3Nps7Qp",
      "execution_count": 12,
      "outputs": [
        {
          "output_type": "stream",
          "name": "stdout",
          "text": [
            "Added book: Harry Potter and the Sorcerer's Stone by J.K. Rowling\n",
            "Added book: To Kill a Mockingbird by Harper Lee\n",
            "Added book: The Great Gatsby by F. Scott Fitzgerald\n",
            "Available Books:\n",
            "Book ID: B001, Title: Harry Potter and the Sorcerer's Stone, Author: J.K. Rowling, Available: True\n",
            "Book ID: B002, Title: To Kill a Mockingbird, Author: Harper Lee, Available: True\n",
            "Book ID: B003, Title: The Great Gatsby, Author: F. Scott Fitzgerald, Available: True\n",
            "Borrowed book: Harry Potter and the Sorcerer's Stone by J.K. Rowling\n",
            "Borrowed book: To Kill a Mockingbird by Harper Lee\n",
            "Available Books:\n",
            "Book ID: B003, Title: The Great Gatsby, Author: F. Scott Fitzgerald, Available: True\n"
          ]
        }
      ]
    },
    {
      "cell_type": "code",
      "source": [
        "#Que number 5#Problem 5: Product Inventory Create classes representing a product and an inventory system. Implement methods to add products to the inventory, update product quantity, and display available products."
      ],
      "metadata": {
        "id": "HNA2q9mWtpNP"
      },
      "id": "HNA2q9mWtpNP",
      "execution_count": 13,
      "outputs": []
    },
    {
      "cell_type": "code",
      "source": [
        "class Product:\n",
        "    def __init__(self, product_id, name, price, quantity):\n",
        "        self.product_id = product_id\n",
        "        self.name = name\n",
        "        self.price = price\n",
        "        self.quantity = quantity\n",
        "\n",
        "    def __str__(self):\n",
        "        return f\"Product ID: {self.product_id}, Name: {self.name}, Price: ${self.price:.2f}, Quantity: {self.quantity}\"\n",
        "\n",
        "\n",
        "class InventorySystem:\n",
        "    def __init__(self):\n",
        "        self.inventory = {}\n",
        "\n",
        "    def add_product(self, product_id, name, price, quantity):\n",
        "        if product_id not in self.inventory:\n",
        "            product = Product(product_id, name, price, quantity)\n",
        "            self.inventory[product_id] = product\n",
        "            print(f\"Added product: {product.name}, Quantity: {product.quantity}\")\n",
        "        else:\n",
        "            print(f\"Product with ID {product_id} already exists in the inventory.\")\n",
        "\n",
        "    def update_product_quantity(self, product_id, quantity_change):\n",
        "        if product_id in self.inventory:\n",
        "            product = self.inventory[product_id]\n",
        "            new_quantity = product.quantity + quantity_change\n",
        "            if new_quantity >= 0:\n",
        "                product.quantity = new_quantity\n",
        "                print(f\"Updated quantity for {product.name} to {product.quantity}\")\n",
        "            else:\n",
        "                print(\"Invalid quantity change. Quantity cannot be negative.\")\n",
        "        else:\n",
        "            print(f\"Product with ID {product_id} does not exist in the inventory.\")\n",
        "\n",
        "    def display_available_products(self):\n",
        "        available_products = [product for product in self.inventory.values() if product.quantity > 0]\n",
        "        if available_products:\n",
        "            print(\"Available Products:\")\n",
        "            for product in available_products:\n",
        "                print(product)\n",
        "        else:\n",
        "            print(\"No products are currently available in the inventory.\")\n",
        "\n",
        "if __name__ == \"__main__\":\n",
        "    inventory_system = InventorySystem()\n",
        "\n",
        "    inventory_system.add_product(\"P001\", \"Laptop\", 999.99, 10)\n",
        "    inventory_system.add_product(\"P002\", \"Smartphone\", 699.99, 15)\n",
        "    inventory_system.add_product(\"P003\", \"Tablet\", 449.99, 5)\n",
        "\n",
        "    inventory_system.display_available_products()\n",
        "\n",
        "    inventory_system.update_product_quantity(\"P001\", -2)\n",
        "    inventory_system.update_product_quantity(\"P002\", 5)\n",
        "\n",
        "    inventory_system.display_available_products()\n"
      ],
      "metadata": {
        "colab": {
          "base_uri": "https://localhost:8080/"
        },
        "id": "yRHvLURrwrru",
        "outputId": "3fbbac54-0f79-446c-e976-63a22ba9b87e"
      },
      "id": "yRHvLURrwrru",
      "execution_count": 14,
      "outputs": [
        {
          "output_type": "stream",
          "name": "stdout",
          "text": [
            "Added product: Laptop, Quantity: 10\n",
            "Added product: Smartphone, Quantity: 15\n",
            "Added product: Tablet, Quantity: 5\n",
            "Available Products:\n",
            "Product ID: P001, Name: Laptop, Price: $999.99, Quantity: 10\n",
            "Product ID: P002, Name: Smartphone, Price: $699.99, Quantity: 15\n",
            "Product ID: P003, Name: Tablet, Price: $449.99, Quantity: 5\n",
            "Updated quantity for Laptop to 8\n",
            "Updated quantity for Smartphone to 20\n",
            "Available Products:\n",
            "Product ID: P001, Name: Laptop, Price: $999.99, Quantity: 8\n",
            "Product ID: P002, Name: Smartphone, Price: $699.99, Quantity: 20\n",
            "Product ID: P003, Name: Tablet, Price: $449.99, Quantity: 5\n"
          ]
        }
      ]
    },
    {
      "cell_type": "code",
      "source": [
        "#Problem 6: Shape Calculation Create a class representing a shape with attributes like length, width, and height. Implement methods to calculate the area and perimeter of the shape."
      ],
      "metadata": {
        "id": "i0FVl0veyEgb"
      },
      "id": "i0FVl0veyEgb",
      "execution_count": 15,
      "outputs": []
    },
    {
      "cell_type": "code",
      "source": [
        "class Shape:\n",
        "    def __init__(self, length=0, width=0, height=0):\n",
        "        self.length = length\n",
        "        self.width = width\n",
        "        self.height = height\n",
        "\n",
        "    def calculate_area(self):\n",
        "        pass  # This method should be overridden by subclasses\n",
        "\n",
        "    def calculate_perimeter(self):\n",
        "        pass  # This method should be overridden by subclasses\n",
        "\n",
        "\n",
        "class Rectangle(Shape):\n",
        "    def calculate_area(self):\n",
        "        return self.length * self.width\n",
        "\n",
        "    def calculate_perimeter(self):\n",
        "        return 2 * (self.length + self.width)\n",
        "\n",
        "\n",
        "class Triangle(Shape):\n",
        "    def calculate_area(self):\n",
        "\n",
        "        s = (self.length + self.width + self.height) / 2\n",
        "        return (s * (s - self.length) * (s - self.width) * (s - self.height)) ** 0.5\n",
        "\n",
        "    def calculate_perimeter(self):\n",
        "        return self.length + self.width + self.height\n",
        "\n",
        "\n",
        "if __name__ == \"__main__\":\n",
        "    rectangle = Rectangle(5, 4)\n",
        "    triangle = Triangle(3, 4, 5)\n",
        "\n",
        "    print(f\"Rectangle - Area: {rectangle.calculate_area()}, Perimeter: {rectangle.calculate_perimeter()}\")\n",
        "    print(f\"Triangle - Area: {triangle.calculate_area()}, Perimeter: {triangle.calculate_perimeter()}\")\n"
      ],
      "metadata": {
        "colab": {
          "base_uri": "https://localhost:8080/"
        },
        "id": "6j7iCI_6yOnZ",
        "outputId": "83c05c1d-b600-4866-fdbc-51449e572fb8"
      },
      "id": "6j7iCI_6yOnZ",
      "execution_count": 16,
      "outputs": [
        {
          "output_type": "stream",
          "name": "stdout",
          "text": [
            "Rectangle - Area: 20, Perimeter: 18\n",
            "Triangle - Area: 6.0, Perimeter: 12\n"
          ]
        }
      ]
    },
    {
      "cell_type": "code",
      "source": [
        "#Problem 7: Student Management Create a class representing a student with attributes like student ID, name, and grades. Implement methods to calculate the average grade and display student details."
      ],
      "metadata": {
        "id": "KVKlJAy0y3gZ"
      },
      "id": "KVKlJAy0y3gZ",
      "execution_count": 17,
      "outputs": []
    },
    {
      "cell_type": "code",
      "source": [
        "class Student:\n",
        "    def __init__(self, student_id, name):\n",
        "        self.student_id = student_id\n",
        "        self.name = name\n",
        "        self.grades = []\n",
        "\n",
        "    def add_grade(self, grade):\n",
        "        self.grades.append(grade)\n",
        "\n",
        "    def calculate_average_grade(self):\n",
        "        if len(self.grades) > 0:\n",
        "            return sum(self.grades) / len(self.grades)\n",
        "        else:\n",
        "            return 0.0\n",
        "\n",
        "    def display_student_details(self):\n",
        "        print(f\"Student ID: {self.student_id}\")\n",
        "        print(f\"Student Name: {self.name}\")\n",
        "        print(f\"Grades: {', '.join(map(str, self.grades))}\")\n",
        "        print(f\"Average Grade: {self.calculate_average_grade():.2f}\")\n",
        "\n",
        "\n",
        "if __name__ == \"__main__\":\n",
        "    student1 = Student(\"S001\", \"Vishal Maurya\")\n",
        "    student1.add_grade(95)\n",
        "    student1.add_grade(80)\n",
        "    student1.add_grade(92)\n",
        "\n",
        "    student2 = Student(\"S002\", \"Arjun Maurya\")\n",
        "    student2.add_grade(78)\n",
        "    student2.add_grade(87)\n",
        "    student2.add_grade(91)\n",
        "\n",
        "    student1.display_student_details()\n",
        "    print(\"\\n\")\n",
        "    student2.display_student_details()\n"
      ],
      "metadata": {
        "colab": {
          "base_uri": "https://localhost:8080/"
        },
        "id": "YX9cXwj0zAbB",
        "outputId": "ce7c39f2-1f03-4ba9-8eb5-16f118a3c2ba"
      },
      "id": "YX9cXwj0zAbB",
      "execution_count": 19,
      "outputs": [
        {
          "output_type": "stream",
          "name": "stdout",
          "text": [
            "Student ID: S001\n",
            "Student Name: Vishal Maurya\n",
            "Grades: 95, 80, 92\n",
            "Average Grade: 89.00\n",
            "\n",
            "\n",
            "Student ID: S002\n",
            "Student Name: Arjun Maurya\n",
            "Grades: 78, 87, 91\n",
            "Average Grade: 85.33\n"
          ]
        }
      ]
    },
    {
      "cell_type": "code",
      "source": [
        "#Problem 8: Email Management Create a class representing an email with attributes like sender, recipient, and subject. Implement methods to send an email and display email details."
      ],
      "metadata": {
        "id": "ktn-c0ZWzLb6"
      },
      "id": "ktn-c0ZWzLb6",
      "execution_count": 20,
      "outputs": []
    },
    {
      "cell_type": "code",
      "source": [
        "class Email:\n",
        "    def __init__(self, sender, recipient, subject, message):\n",
        "        self.sender = sender\n",
        "        self.recipient = recipient\n",
        "        self.subject = subject\n",
        "        self.message = message\n",
        "        self.is_sent = False\n",
        "\n",
        "    def send_email(self):\n",
        "        if not self.is_sent:\n",
        "            print(\"Sending Email...\")\n",
        "            # Add code here to send the email (e.g., using an email library)\n",
        "            self.is_sent = True\n",
        "            print(\"Email sent successfully!\")\n",
        "        else:\n",
        "            print(\"Email has already been sent.\")\n",
        "\n",
        "    def display_email_details(self):\n",
        "        print(\"Email Details:\")\n",
        "        print(f\"Sender: {self.sender}\")\n",
        "        print(f\"Recipient: {self.recipient}\")\n",
        "        print(f\"Subject: {self.subject}\")\n",
        "        print(\"Message:\")\n",
        "        print(self.message)\n",
        "\n",
        "# Example usage:\n",
        "if __name__ == \"__main__\":\n",
        "    email1 = Email(\"vishalmaurya@gmail.com\", \"vmbusiness7827@gmail.com\", \"Hello Vishal\", \"How are you?\")\n",
        "    email2 = Email(\"vishalmaurya@gmail.com\", \"vmbusiness7827@gmail.com\", \"Re: Hello Vishu\", \"I'm doing well, thanks!\")\n",
        "\n",
        "    email1.display_email_details()\n",
        "    print(\"\\n\")\n",
        "    email2.display_email_details()\n",
        "\n",
        "    print(\"\\n\")\n",
        "    email1.send_email()\n",
        "    email1.send_email()\n"
      ],
      "metadata": {
        "colab": {
          "base_uri": "https://localhost:8080/"
        },
        "id": "yIk56W_uzi3j",
        "outputId": "6006e453-8d23-47b3-a38d-0a422bd0619d"
      },
      "id": "yIk56W_uzi3j",
      "execution_count": 22,
      "outputs": [
        {
          "output_type": "stream",
          "name": "stdout",
          "text": [
            "Email Details:\n",
            "Sender: vishalmaurya@gmail.com\n",
            "Recipient: vmbusiness7827@gmail.com\n",
            "Subject: Hello Vishal\n",
            "Message:\n",
            "How are you?\n",
            "\n",
            "\n",
            "Email Details:\n",
            "Sender: vishalmaurya@gmail.com\n",
            "Recipient: vmbusiness7827@gmail.com\n",
            "Subject: Re: Hello Vishu\n",
            "Message:\n",
            "I'm doing well, thanks!\n",
            "\n",
            "\n",
            "Sending Email...\n",
            "Email sent successfully!\n",
            "Email has already been sent.\n"
          ]
        }
      ]
    },
    {
      "cell_type": "code",
      "source": [
        "#Problem 9: Social Media Profile Create a class representing a social media profile with attributes like username and posts. Implement methods to add posts, display posts, and search for posts by keyword."
      ],
      "metadata": {
        "id": "cVrnSBQp09gN"
      },
      "id": "cVrnSBQp09gN",
      "execution_count": 23,
      "outputs": []
    },
    {
      "cell_type": "code",
      "source": [
        "class SocialMediaProfile:\n",
        "    def __init__(self, username):\n",
        "        self.username = username\n",
        "        self.posts = []\n",
        "\n",
        "    def add_post(self, post_text):\n",
        "        self.posts.append(post_text)\n",
        "\n",
        "    def display_posts(self):\n",
        "        if not self.posts:\n",
        "            print(f\"No posts available for {self.username}.\")\n",
        "        else:\n",
        "            print(f\"Posts by {self.username}:\")\n",
        "            for i, post in enumerate(self.posts, 1):\n",
        "                print(f\"{i}. {post}\")\n",
        "\n",
        "    def search_posts_by_keyword(self, keyword):\n",
        "        matching_posts = [post for post in self.posts if keyword.lower() in post.lower()]\n",
        "        if not matching_posts:\n",
        "            print(f\"No posts containing '{keyword}' found in {self.username}'s profile.\")\n",
        "        else:\n",
        "            print(f\"Posts by {self.username} containing '{keyword}':\")\n",
        "            for i, post in enumerate(matching_posts, 1):\n",
        "                print(f\"{i}. {post}\")\n",
        "\n",
        "\n",
        "if __name__ == \"__main__\":\n",
        "    profile = SocialMediaProfile(\"Vishal_Maurya\")\n",
        "\n",
        "    profile.add_post(\"Having a great day at the beach!\")\n",
        "    profile.add_post(\"Just finished reading a good book.\")\n",
        "    profile.add_post(\"Eating dinner with friends tonight.\")\n",
        "\n",
        "    profile.display_posts()\n",
        "\n",
        "    print(\"\\n\")\n",
        "    profile.search_posts_by_keyword(\"beach\")\n"
      ],
      "metadata": {
        "colab": {
          "base_uri": "https://localhost:8080/"
        },
        "id": "kIIEGSbE1Osq",
        "outputId": "f288083d-d62a-4ebf-db22-072aa1e2f69a"
      },
      "id": "kIIEGSbE1Osq",
      "execution_count": 25,
      "outputs": [
        {
          "output_type": "stream",
          "name": "stdout",
          "text": [
            "Posts by Vishal_Maurya:\n",
            "1. Having a great day at the beach!\n",
            "2. Just finished reading a good book.\n",
            "3. Eating dinner with friends tonight.\n",
            "\n",
            "\n",
            "Posts by Vishal_Maurya containing 'beach':\n",
            "1. Having a great day at the beach!\n"
          ]
        }
      ]
    },
    {
      "cell_type": "code",
      "source": [
        "#Problem 10: ToDo List Create a class representing a ToDo list with attributes like tasks and due dates. Implement methods to add tasks, mark tasks as completed, and display pending tasks."
      ],
      "metadata": {
        "id": "XAfac5n016Md"
      },
      "id": "XAfac5n016Md",
      "execution_count": 26,
      "outputs": []
    },
    {
      "cell_type": "code",
      "source": [
        "class ToDoList:\n",
        "    def __init__(self):\n",
        "        self.tasks = {}  # A dictionary to store tasks and their due dates\n",
        "\n",
        "    def add_task(self, task, due_date):\n",
        "        self.tasks[task] = due_date\n",
        "\n",
        "    def mark_task_completed(self, task):\n",
        "        if task in self.tasks:\n",
        "            del self.tasks[task]\n",
        "            print(f\"Task '{task}' marked as completed.\")\n",
        "        else:\n",
        "            print(f\"Task '{task}' not found in the ToDo list.\")\n",
        "\n",
        "    def display_pending_tasks(self):\n",
        "        if not self.tasks:\n",
        "            print(\"No pending tasks in the ToDo list.\")\n",
        "        else:\n",
        "            print(\"Pending Tasks:\")\n",
        "            for task, due_date in self.tasks.items():\n",
        "                print(f\"- {task} (Due Date: {due_date})\")\n",
        "\n",
        "if __name__ == \"__main__\":\n",
        "    todo_list = ToDoList()\n",
        "\n",
        "    todo_list.add_task(\"Buy groceries\", \"2023-10-15\")\n",
        "    todo_list.add_task(\"Finish report\", \"2023-10-20\")\n",
        "    todo_list.add_task(\"Call mom\", \"2023-10-12\")\n",
        "\n",
        "    todo_list.display_pending_tasks()\n",
        "\n",
        "    print(\"\\n\")\n",
        "    todo_list.mark_task_completed(\"Buy groceries\")\n",
        "    todo_list.mark_task_completed(\"Send email\")\n",
        "\n",
        "    todo_list.display_pending_tasks()\n"
      ],
      "metadata": {
        "colab": {
          "base_uri": "https://localhost:8080/"
        },
        "id": "wpMy_Cqn2J7J",
        "outputId": "f909efab-3f6f-4565-d418-ad698b82bb86"
      },
      "id": "wpMy_Cqn2J7J",
      "execution_count": 27,
      "outputs": [
        {
          "output_type": "stream",
          "name": "stdout",
          "text": [
            "Pending Tasks:\n",
            "- Buy groceries (Due Date: 2023-10-15)\n",
            "- Finish report (Due Date: 2023-10-20)\n",
            "- Call mom (Due Date: 2023-10-12)\n",
            "\n",
            "\n",
            "Task 'Buy groceries' marked as completed.\n",
            "Task 'Send email' not found in the ToDo list.\n",
            "Pending Tasks:\n",
            "- Finish report (Due Date: 2023-10-20)\n",
            "- Call mom (Due Date: 2023-10-12)\n"
          ]
        }
      ]
    },
    {
      "cell_type": "code",
      "source": [],
      "metadata": {
        "id": "8y3ZJpm52bDe"
      },
      "id": "8y3ZJpm52bDe",
      "execution_count": null,
      "outputs": []
    }
  ],
  "metadata": {
    "kernelspec": {
      "display_name": "Python 3 (ipykernel)",
      "language": "python",
      "name": "python3"
    },
    "language_info": {
      "codemirror_mode": {
        "name": "ipython",
        "version": 3
      },
      "file_extension": ".py",
      "mimetype": "text/x-python",
      "name": "python",
      "nbconvert_exporter": "python",
      "pygments_lexer": "ipython3",
      "version": "3.10.8"
    },
    "colab": {
      "provenance": []
    }
  },
  "nbformat": 4,
  "nbformat_minor": 5
}